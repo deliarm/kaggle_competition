{
 "cells": [
  {
   "cell_type": "markdown",
   "id": "bd6f0b73-8ac7-4181-9f2a-1b585df47e87",
   "metadata": {
    "tags": []
   },
   "source": [
    "### Assignment 3\n",
    "\n",
    "##### Deliar Mohammadi, 30072994\n",
    "##### John Zheng,30125258\n",
    "##### Xinzhou Li, 30066080\n",
    "\n"
   ]
  },
  {
   "cell_type": "code",
   "execution_count": null,
   "id": "0819318d-5b5a-481b-9458-d4e7f0bde01c",
   "metadata": {},
   "outputs": [],
   "source": []
  },
  {
   "cell_type": "code",
   "execution_count": null,
   "id": "a07f542e-ed26-4bd5-94c5-ca1eaa6ee40b",
   "metadata": {},
   "outputs": [],
   "source": []
  },
  {
   "cell_type": "code",
   "execution_count": null,
   "id": "8551c930-ac4e-4d42-9a60-4344346f8fb9",
   "metadata": {},
   "outputs": [],
   "source": []
  },
  {
   "cell_type": "code",
   "execution_count": null,
   "id": "abb88bd6-6a27-4126-9cf0-615f9e977460",
   "metadata": {},
   "outputs": [],
   "source": []
  },
  {
   "cell_type": "code",
   "execution_count": null,
   "id": "2509f908-40f8-40c8-adc0-c6244d80d1e3",
   "metadata": {},
   "outputs": [],
   "source": []
  }
 ],
 "metadata": {
  "kernelspec": {
   "display_name": "Python 3 (ipykernel)",
   "language": "python",
   "name": "python3"
  },
  "language_info": {
   "codemirror_mode": {
    "name": "ipython",
    "version": 3
   },
   "file_extension": ".py",
   "mimetype": "text/x-python",
   "name": "python",
   "nbconvert_exporter": "python",
   "pygments_lexer": "ipython3",
   "version": "3.10.5"
  }
 },
 "nbformat": 4,
 "nbformat_minor": 5
}
